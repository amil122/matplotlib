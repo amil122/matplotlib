{
 "cells": [
  {
   "cell_type": "code",
   "execution_count": 15,
   "id": "064cac4b",
   "metadata": {},
   "outputs": [],
   "source": [
    "import random\n",
    "from itertools import count\n",
    "import pandas as pd\n",
    "import numpy as np\n",
    "import matplotlib.pyplot as plt\n",
    "from matplotlib.animation import FuncAnimation"
   ]
  },
  {
   "cell_type": "code",
   "execution_count": 21,
   "id": "37bc163b",
   "metadata": {},
   "outputs": [
    {
     "name": "stderr",
     "output_type": "stream",
     "text": [
      "C:\\Users\\amil\\AppData\\Local\\Temp\\ipykernel_27436\\2497183483.py:9: UserWarning: frames=None which we can infer the length of, did not pass an explicit *save_count* and passed cache_frame_data=True.  To avoid a possibly unbounded cache, frame data caching has been disabled. To suppress this warning either pass `cache_frame_data=False` or `save_count=MAX_FRAMES`.\n",
      "  ani = FuncAnimation(plt.gcf(), animate,  interval = 1000)\n"
     ]
    },
    {
     "data": {
      "text/plain": [
       "<Figure size 640x480 with 0 Axes>"
      ]
     },
     "metadata": {},
     "output_type": "display_data"
    }
   ],
   "source": [
    "x_vals = []\n",
    "y_vals = []\n",
    "index = count()\n",
    "def animate(i):\n",
    "    x_vals.append(next(index))\n",
    "    y_vals.append(random.randint(0,8))\n",
    "    plt.gca().cla()\n",
    "    plt.plot(x_vals,y_vals)\n",
    "ani = FuncAnimation(plt.gcf(), animate,  interval = 1000)\n",
    "plt.show()"
   ]
  },
  {
   "cell_type": "code",
   "execution_count": 27,
   "id": "e9803b39",
   "metadata": {},
   "outputs": [
    {
     "data": {
      "text/plain": [
       "<Figure size 640x480 with 0 Axes>"
      ]
     },
     "metadata": {},
     "output_type": "display_data"
    }
   ],
   "source": [
    "import matplotlib.pyplot as plt\n",
    "from matplotlib.animation import FuncAnimation\n",
    "import random\n",
    "from itertools import count\n",
    "\n",
    "# Initialize the lists to store the x and y values\n",
    "x_vals = []\n",
    "y_vals = []\n",
    "\n",
    "# Create an index counter\n",
    "index = count()\n",
    "\n",
    "# Function to update the plot\n",
    "def animate(i):\n",
    "    # Append the next index and a random y value\n",
    "    x_vals.append(next(index))\n",
    "    y_vals.append(random.randint(0, 8))\n",
    "    \n",
    "    # Clear the current axis\n",
    "    plt.gca().cla()\n",
    "    \n",
    "    # Plot the new data\n",
    "    plt.plot(x_vals, y_vals)\n",
    "    \n",
    "    # Optional: Set labels and title\n",
    "    plt.xlabel('Index')\n",
    "    plt.ylabel('Random Value')\n",
    "    plt.title('Live Updating Plot')\n",
    "\n",
    "# Create the animation\n",
    "ani = FuncAnimation(plt.gcf(), animate,cache_frame_data=False, interval=1000)\n",
    "\n",
    "# Display the plot\n",
    "plt.show()\n"
   ]
  },
  {
   "cell_type": "code",
   "execution_count": null,
   "id": "b4ce984d",
   "metadata": {},
   "outputs": [],
   "source": []
  }
 ],
 "metadata": {
  "kernelspec": {
   "display_name": "Python 3 (ipykernel)",
   "language": "python",
   "name": "python3"
  },
  "language_info": {
   "codemirror_mode": {
    "name": "ipython",
    "version": 3
   },
   "file_extension": ".py",
   "mimetype": "text/x-python",
   "name": "python",
   "nbconvert_exporter": "python",
   "pygments_lexer": "ipython3",
   "version": "3.11.7"
  }
 },
 "nbformat": 4,
 "nbformat_minor": 5
}
